{
 "cells": [
  {
   "cell_type": "code",
   "execution_count": null,
   "metadata": {},
   "outputs": [],
   "source": [
    "from sklearn.preprocessing import StandardScaler\n",
    "import pandas as pd\n",
    "import joblib\n",
    "import numpy as np\n",
    "\n",
    "y_train = pd.read_csv('../model_data_backup/y_train.csv', index_col=0).to_numpy().tolist()\n",
    "y_test = pd.read_csv('../model_data_backup/y_test.csv', index_col=0).to_numpy().tolist()\n",
    "y_val = pd.read_csv('../model_data_backup/y_val.csv', index_col=0).to_numpy().tolist()\n",
    "\n",
    "X_train = pd.read_csv('../model_data_backup/X_train.csv', index_col=0).drop(columns='mfc10_residual').to_numpy().tolist()\n",
    "X_test = pd.read_csv('../model_data_backup/X_test.csv', index_col=0).drop(columns='mfc10_residual').to_numpy().tolist()\n",
    "X_val = pd.read_csv('../model_data_backup/X_val.csv', index_col=0).drop(columns='mfc10_residual').to_numpy().tolist()"
   ]
  }
 ],
 "metadata": {
  "kernelspec": {
   "display_name": "studiarbeit",
   "language": "python",
   "name": "python3"
  },
  "language_info": {
   "codemirror_mode": {
    "name": "ipython",
    "version": 3
   },
   "file_extension": ".py",
   "mimetype": "text/x-python",
   "name": "python",
   "nbconvert_exporter": "python",
   "pygments_lexer": "ipython3",
   "version": "3.9.17"
  },
  "orig_nbformat": 4
 },
 "nbformat": 4,
 "nbformat_minor": 2
}
