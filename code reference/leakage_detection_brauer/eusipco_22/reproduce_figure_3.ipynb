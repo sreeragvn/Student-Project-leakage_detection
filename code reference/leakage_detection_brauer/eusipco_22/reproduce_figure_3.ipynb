{
 "cells": [
  {
   "cell_type": "code",
   "execution_count": null,
   "metadata": {},
   "outputs": [],
   "source": [
    "import matplotlib.pyplot as plt\n",
    "import pandas as pd\n",
    "import seaborn as sns"
   ]
  },
  {
   "cell_type": "code",
   "execution_count": null,
   "metadata": {},
   "outputs": [],
   "source": [
    "# load numerical results\n",
    "df = pd.read_csv('results.csv')\n",
    "data = df[df['width'].isin([4])].copy()\n",
    "\n",
    "# select best models in terms of validation data\n",
    "for depth in range(1, 11):\n",
    "    for augmented in [True, False]:\n",
    "        for tpe in ['eqv', 'fcnn']:\n",
    "            idx = (data['depth'] == depth) & (data['augmented'] == augmented) & (data['type'] == tpe)\n",
    "            samples = data.loc[idx]\n",
    "            data.loc[idx, 'mse_test'] = float(samples.loc[samples['mse_val'] == samples['mse_val'].min(), 'mse_test'])\n",
    "            data.loc[idx, 'mse_test_aug'] = float(samples.loc[samples['mse_val'] == samples['mse_val'].min(), 'mse_test_aug'])"
   ]
  },
  {
   "cell_type": "code",
   "execution_count": null,
   "metadata": {},
   "outputs": [],
   "source": [
    "import matplotlib \n",
    "font = {'family' : 'serif',\n",
    "        'size'   : 8}\n",
    "matplotlib.rc('font', **font)"
   ]
  },
  {
   "cell_type": "code",
   "execution_count": null,
   "metadata": {},
   "outputs": [],
   "source": [
    "# reproduce figure 3 (left)\n",
    "plt.figure(figsize=(2, 2))\n",
    "sns.lineplot(data=data, x='depth', y='mse_test', hue='augmented', style='type', legend=False)\n",
    "plt.xticks([2, 4, 6, 8, 10])\n",
    "plt.yscale('log')\n",
    "plt.gca().yaxis.tick_right()\n",
    "plt.ylim([1e-2, 4e-2])\n",
    "plt.grid(axis='y', which='both')\n",
    "plt.xlabel('Depth')\n",
    "plt.ylabel('MSE Test (Original)')\n",
    "plt.savefig('eusipco_mse_test', pad_inches=0.01, bbox_inches='tight', dpi=200)"
   ]
  },
  {
   "cell_type": "code",
   "execution_count": null,
   "metadata": {
    "scrolled": true
   },
   "outputs": [],
   "source": [
    "# reproduce figure 3 (right)\n",
    "plt.figure(figsize=(2, 2))\n",
    "sns.lineplot(data=data, x='depth', y='mse_test_aug', hue='augmented', style='type')\n",
    "plt.xticks([2, 4, 6, 8, 10])\n",
    "plt.yscale('log')\n",
    "plt.gca().yaxis.tick_right()\n",
    "plt.ylim([1e-2, 4e-2])\n",
    "plt.grid(axis='y', which='both')\n",
    "plt.legend(prop={'size': 7})\n",
    "plt.ylabel('')\n",
    "plt.xlabel('Depth')\n",
    "plt.ylabel('MSE Test (Augmented)')\n",
    "L = plt.legend(ncol=2, prop={'size': 7.5})\n",
    "L.get_texts()[0].set_text('Augm.')\n",
    "L.get_texts()[1].set_text('False')\n",
    "L.get_texts()[2].set_text('True')\n",
    "L.get_texts()[3].set_text('Type')\n",
    "L.get_texts()[4].set_text('Eqv')\n",
    "L.get_texts()[5].set_text('Fcnn')\n",
    "plt.savefig('eusipco_mse_test_aug', pad_inches=0.01, bbox_inches='tight', dpi=200)"
   ]
  }
 ],
 "metadata": {
  "kernelspec": {
   "display_name": "Python 3",
   "language": "python",
   "name": "python3"
  },
  "language_info": {
   "codemirror_mode": {
    "name": "ipython",
    "version": 3
   },
   "file_extension": ".py",
   "mimetype": "text/x-python",
   "name": "python",
   "nbconvert_exporter": "python",
   "pygments_lexer": "ipython3",
   "version": "3.8.10"
  }
 },
 "nbformat": 4,
 "nbformat_minor": 4
}
