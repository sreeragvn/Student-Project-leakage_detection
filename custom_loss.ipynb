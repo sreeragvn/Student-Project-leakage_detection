{
 "cells": [
  {
   "cell_type": "code",
   "execution_count": 17,
   "metadata": {},
   "outputs": [],
   "source": [
    "from utils.data_preprocess import load_data, split_xy_save, load_single_leakage_model_data\n",
    "from utils.module import model_eval, hyper_model, model_comparison, linear_regression, numpy_to_tensor, benchmark_linear_model\n",
    "from utils.model_evaluation import plot_test_pred\n",
    "import itertools\n",
    "import pandas as pd \n",
    "import yaml\n",
    "import tensorflow as tf\n",
    "import numpy as np\n",
    "from sklearn.model_selection import train_test_split\n",
    "from sklearn.preprocessing import StandardScaler\n",
    "from keras.models import Model\n",
    "from keras.layers import Dense, Input\n",
    "import keras_tuner as kt\n",
    "from tensorflow import keras\n",
    "from keras import layers\n",
    "import seaborn as sns\n",
    "import matplotlib.pyplot as plt\n",
    "from tensorflow.python.ops.numpy_ops import np_config\n",
    "np_config.enable_numpy_behavior()"
   ]
  },
  {
   "cell_type": "code",
   "execution_count": 18,
   "metadata": {},
   "outputs": [],
   "source": [
    "with open(\"config_multi.yml\", \"r\") as ymlfile:\n",
    "    cfg = yaml.full_load(ymlfile)\n",
    "\n",
    "single_leakage, _ = load_data(total_samples = cfg['experiment']['total_samples'])\n",
    "data = single_leakage.drop(columns=[\"mfc10_residual\"], inplace=False)\n"
   ]
  },
  {
   "cell_type": "code",
   "execution_count": 19,
   "metadata": {},
   "outputs": [],
   "source": [
    "y = data[['x1', 'y1']]\n",
    "x = data.drop(['x1', 'y1'], axis=1)\n",
    "\n",
    "X_train, X_test, y_train, y_test = train_test_split(x, y, test_size=0.15, random_state=1)\n",
    "X_train, X_val, y_train, y_val = train_test_split(X_train, y_train, test_size=0.2, random_state=1) \n",
    "\n",
    "scaler_flows = StandardScaler()\n",
    "X_train_sc = scaler_flows.fit_transform(X_train)\n",
    "X_test_sc = scaler_flows.transform(X_test)\n",
    "X_val_sc = scaler_flows.transform(X_val)\n",
    "\n",
    "scaler_coords = StandardScaler()\n",
    "y_train_sc = scaler_coords.fit_transform(y_train)\n",
    "y_test_sc = scaler_coords.transform(y_test)\n",
    "y_val_sc = scaler_coords.transform(y_val)"
   ]
  },
  {
   "cell_type": "code",
   "execution_count": 20,
   "metadata": {},
   "outputs": [],
   "source": [
    "def my_loss_fn(y_true, y_pred):\n",
    "    mse = tf.keras.losses.MeanSquaredError(y_true[:,0:1], y_pred[:,0:1])\n",
    "    mae = tf.keras.losses.MeanAbsoluteError(y_true[:,-1], y_pred[:,-1])\n",
    "    loss = mse + mae\n",
    "    return loss"
   ]
  },
  {
   "cell_type": "code",
   "execution_count": 21,
   "metadata": {},
   "outputs": [
    {
     "name": "stdout",
     "output_type": "stream",
     "text": [
      "Epoch 1/100\n"
     ]
    },
    {
     "ename": "TypeError",
     "evalue": "in user code:\n\n    File \"/home/vn/miniconda3/envs/studiarbeit/lib/python3.9/site-packages/keras/engine/training.py\", line 1284, in train_function  *\n        return step_function(self, iterator)\n    File \"/tmp/ipykernel_90446/929786181.py\", line 2, in my_loss_fn  *\n        mse = tf.keras.losses.MeanSquaredError(y_true[:,0:1], y_pred[:,0:1])\n    File \"/home/vn/miniconda3/envs/studiarbeit/lib/python3.9/site-packages/keras/losses.py\", line 358, in __init__  **\n        super().__init__(mean_squared_error, name=name, reduction=reduction)\n    File \"/home/vn/miniconda3/envs/studiarbeit/lib/python3.9/site-packages/keras/losses.py\", line 246, in __init__\n        super().__init__(reduction=reduction, name=name)\n    File \"/home/vn/miniconda3/envs/studiarbeit/lib/python3.9/site-packages/keras/losses.py\", line 83, in __init__\n        losses_utils.ReductionV2.validate(reduction)\n    File \"/home/vn/miniconda3/envs/studiarbeit/lib/python3.9/site-packages/keras/utils/losses_utils.py\", line 87, in validate\n        if key not in cls.all():\n    File \"<__array_function__ internals>\", line 200, in result_type\n        \n\n    TypeError: data type 'auto' not understood\n",
     "output_type": "error",
     "traceback": [
      "\u001b[0;31m---------------------------------------------------------------------------\u001b[0m",
      "\u001b[0;31mTypeError\u001b[0m                                 Traceback (most recent call last)",
      "Cell \u001b[0;32mIn[21], line 8\u001b[0m\n\u001b[1;32m      2\u001b[0m \u001b[39m# linear_model.compile(loss='mean_squared_error', optimizer=tf.keras.optimizers.Adam(0.01), metrics='mae')\u001b[39;00m\n\u001b[1;32m      3\u001b[0m linear_model\u001b[39m.\u001b[39mcompile(\n\u001b[1;32m      4\u001b[0m \u001b[39m#     loss='mean_squared_error',\u001b[39;00m\n\u001b[1;32m      5\u001b[0m     loss \u001b[39m=\u001b[39m my_loss_fn,\n\u001b[1;32m      6\u001b[0m     optimizer\u001b[39m=\u001b[39mtf\u001b[39m.\u001b[39mkeras\u001b[39m.\u001b[39moptimizers\u001b[39m.\u001b[39mNadam(\u001b[39m0.01\u001b[39m), metrics\u001b[39m=\u001b[39m\u001b[39m'\u001b[39m\u001b[39mmae\u001b[39m\u001b[39m'\u001b[39m)\n\u001b[0;32m----> 8\u001b[0m history \u001b[39m=\u001b[39m linear_model\u001b[39m.\u001b[39;49mfit(\n\u001b[1;32m      9\u001b[0m         X_train,\n\u001b[1;32m     10\u001b[0m         y_train,\n\u001b[1;32m     11\u001b[0m         epochs\u001b[39m=\u001b[39;49m\u001b[39m100\u001b[39;49m,\n\u001b[1;32m     12\u001b[0m         \u001b[39m# Suppress logging.\u001b[39;49;00m\n\u001b[1;32m     13\u001b[0m         verbose\u001b[39m=\u001b[39;49m\u001b[39m1\u001b[39;49m,\n\u001b[1;32m     14\u001b[0m         validation_data \u001b[39m=\u001b[39;49m (X_val, y_val))\n\u001b[1;32m     16\u001b[0m model_evaluate, y_pred \u001b[39m=\u001b[39m model_eval(linear_model, X_test, y_test, X_train, y_train, X_val, y_val)\n",
      "File \u001b[0;32m~/miniconda3/envs/studiarbeit/lib/python3.9/site-packages/keras/utils/traceback_utils.py:70\u001b[0m, in \u001b[0;36mfilter_traceback.<locals>.error_handler\u001b[0;34m(*args, **kwargs)\u001b[0m\n\u001b[1;32m     67\u001b[0m     filtered_tb \u001b[39m=\u001b[39m _process_traceback_frames(e\u001b[39m.\u001b[39m__traceback__)\n\u001b[1;32m     68\u001b[0m     \u001b[39m# To get the full stack trace, call:\u001b[39;00m\n\u001b[1;32m     69\u001b[0m     \u001b[39m# `tf.debugging.disable_traceback_filtering()`\u001b[39;00m\n\u001b[0;32m---> 70\u001b[0m     \u001b[39mraise\u001b[39;00m e\u001b[39m.\u001b[39mwith_traceback(filtered_tb) \u001b[39mfrom\u001b[39;00m \u001b[39mNone\u001b[39;00m\n\u001b[1;32m     71\u001b[0m \u001b[39mfinally\u001b[39;00m:\n\u001b[1;32m     72\u001b[0m     \u001b[39mdel\u001b[39;00m filtered_tb\n",
      "File \u001b[0;32m/tmp/__autograph_generated_filek8qgsx0i.py:15\u001b[0m, in \u001b[0;36mouter_factory.<locals>.inner_factory.<locals>.tf__train_function\u001b[0;34m(iterator)\u001b[0m\n\u001b[1;32m     13\u001b[0m \u001b[39mtry\u001b[39;00m:\n\u001b[1;32m     14\u001b[0m     do_return \u001b[39m=\u001b[39m \u001b[39mTrue\u001b[39;00m\n\u001b[0;32m---> 15\u001b[0m     retval_ \u001b[39m=\u001b[39m ag__\u001b[39m.\u001b[39mconverted_call(ag__\u001b[39m.\u001b[39mld(step_function), (ag__\u001b[39m.\u001b[39mld(\u001b[39mself\u001b[39m), ag__\u001b[39m.\u001b[39mld(iterator)), \u001b[39mNone\u001b[39;00m, fscope)\n\u001b[1;32m     16\u001b[0m \u001b[39mexcept\u001b[39;00m:\n\u001b[1;32m     17\u001b[0m     do_return \u001b[39m=\u001b[39m \u001b[39mFalse\u001b[39;00m\n",
      "File \u001b[0;32m/tmp/__autograph_generated_filevqs967vc.py:10\u001b[0m, in \u001b[0;36mouter_factory.<locals>.inner_factory.<locals>.tf__my_loss_fn\u001b[0;34m(y_true, y_pred)\u001b[0m\n\u001b[1;32m      8\u001b[0m do_return \u001b[39m=\u001b[39m \u001b[39mFalse\u001b[39;00m\n\u001b[1;32m      9\u001b[0m retval_ \u001b[39m=\u001b[39m ag__\u001b[39m.\u001b[39mUndefinedReturnValue()\n\u001b[0;32m---> 10\u001b[0m mse \u001b[39m=\u001b[39m ag__\u001b[39m.\u001b[39mconverted_call(ag__\u001b[39m.\u001b[39mld(tf)\u001b[39m.\u001b[39mkeras\u001b[39m.\u001b[39mlosses\u001b[39m.\u001b[39mMeanSquaredError, (ag__\u001b[39m.\u001b[39mld(y_true)[:, \u001b[39m0\u001b[39m:\u001b[39m1\u001b[39m], ag__\u001b[39m.\u001b[39mld(y_pred)[:, \u001b[39m0\u001b[39m:\u001b[39m1\u001b[39m]), \u001b[39mNone\u001b[39;00m, fscope)\n\u001b[1;32m     11\u001b[0m mae \u001b[39m=\u001b[39m ag__\u001b[39m.\u001b[39mconverted_call(ag__\u001b[39m.\u001b[39mld(tf)\u001b[39m.\u001b[39mkeras\u001b[39m.\u001b[39mlosses\u001b[39m.\u001b[39mMeanAbsoluteError, (ag__\u001b[39m.\u001b[39mld(y_true)[:, \u001b[39m-\u001b[39m\u001b[39m1\u001b[39m], ag__\u001b[39m.\u001b[39mld(y_pred)[:, \u001b[39m-\u001b[39m\u001b[39m1\u001b[39m]), \u001b[39mNone\u001b[39;00m, fscope)\n\u001b[1;32m     12\u001b[0m loss \u001b[39m=\u001b[39m ag__\u001b[39m.\u001b[39mld(mse) \u001b[39m+\u001b[39m ag__\u001b[39m.\u001b[39mld(mae)\n",
      "File \u001b[0;32m<__array_function__ internals>:200\u001b[0m, in \u001b[0;36mresult_type\u001b[0;34m(*args, **kwargs)\u001b[0m\n",
      "\u001b[0;31mTypeError\u001b[0m: in user code:\n\n    File \"/home/vn/miniconda3/envs/studiarbeit/lib/python3.9/site-packages/keras/engine/training.py\", line 1284, in train_function  *\n        return step_function(self, iterator)\n    File \"/tmp/ipykernel_90446/929786181.py\", line 2, in my_loss_fn  *\n        mse = tf.keras.losses.MeanSquaredError(y_true[:,0:1], y_pred[:,0:1])\n    File \"/home/vn/miniconda3/envs/studiarbeit/lib/python3.9/site-packages/keras/losses.py\", line 358, in __init__  **\n        super().__init__(mean_squared_error, name=name, reduction=reduction)\n    File \"/home/vn/miniconda3/envs/studiarbeit/lib/python3.9/site-packages/keras/losses.py\", line 246, in __init__\n        super().__init__(reduction=reduction, name=name)\n    File \"/home/vn/miniconda3/envs/studiarbeit/lib/python3.9/site-packages/keras/losses.py\", line 83, in __init__\n        losses_utils.ReductionV2.validate(reduction)\n    File \"/home/vn/miniconda3/envs/studiarbeit/lib/python3.9/site-packages/keras/utils/losses_utils.py\", line 87, in validate\n        if key not in cls.all():\n    File \"<__array_function__ internals>\", line 200, in result_type\n        \n\n    TypeError: data type 'auto' not understood\n"
     ]
    }
   ],
   "source": [
    "linear_model = keras.Sequential([layers.Dense(256), layers.Dense(2)])\n",
    "# linear_model.compile(loss='mean_squared_error', optimizer=tf.keras.optimizers.Adam(0.01), metrics='mae')\n",
    "linear_model.compile(\n",
    "#     loss='mean_squared_error',\n",
    "    loss = my_loss_fn,\n",
    "    optimizer=tf.keras.optimizers.Nadam(0.01), metrics='mae')\n",
    "\n",
    "history = linear_model.fit(\n",
    "        X_train,\n",
    "        y_train,\n",
    "        epochs=100,\n",
    "        # Suppress logging.\n",
    "        verbose=1,\n",
    "        validation_data = (X_val, y_val))\n",
    "\n",
    "model_evaluate, y_pred = model_eval(linear_model, X_test, y_test, X_train, y_train, X_val, y_val)"
   ]
  },
  {
   "cell_type": "code",
   "execution_count": null,
   "metadata": {},
   "outputs": [],
   "source": [
    "sns.set_style('darkgrid', {'axes.facecolor': '.9'})\n",
    "sns.set_context('notebook')\n",
    "history_frame= pd.DataFrame(data= history.history)\n",
    "history_frame.plot(figsize=(8,5))\n",
    "plt.show"
   ]
  },
  {
   "cell_type": "code",
   "execution_count": null,
   "metadata": {},
   "outputs": [],
   "source": [
    "plot_test_pred(y_test, y_pred, scaler_coords)"
   ]
  },
  {
   "cell_type": "code",
   "execution_count": null,
   "metadata": {},
   "outputs": [
    {
     "name": "stdout",
     "output_type": "stream",
     "text": [
      "tf.Tensor(\n",
      "[[0 1]\n",
      " [2 3]\n",
      " [4 5]\n",
      " [6 7]], shape=(4, 2), dtype=int32)\n",
      "tf.Tensor([1 3 5 7], shape=(4,), dtype=int32)\n"
     ]
    }
   ],
   "source": [
    "t1 = tf.constant([[0, 1], [2, 3], [4, 5], [6, 7]])\n",
    "print(t1)\n",
    "\n",
    "print(t1[:,-1])"
   ]
  },
  {
   "cell_type": "code",
   "execution_count": null,
   "metadata": {},
   "outputs": [],
   "source": []
  }
 ],
 "metadata": {
  "kernelspec": {
   "display_name": "studiarbeit",
   "language": "python",
   "name": "python3"
  },
  "language_info": {
   "codemirror_mode": {
    "name": "ipython",
    "version": 3
   },
   "file_extension": ".py",
   "mimetype": "text/x-python",
   "name": "python",
   "nbconvert_exporter": "python",
   "pygments_lexer": "ipython3",
   "version": "3.9.16"
  },
  "orig_nbformat": 4
 },
 "nbformat": 4,
 "nbformat_minor": 2
}
