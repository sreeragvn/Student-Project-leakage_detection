{
 "cells": [
  {
   "cell_type": "code",
   "execution_count": null,
   "metadata": {},
   "outputs": [],
   "source": [
    "# Experiment 2 - 1 output layer with 1 loss function - mse. and do hyper parameter tuning.\n",
    "from utils.data_preprocess import load_data, split_xy_save, load_single_leakage_model_data\n",
    "from utils.module import model_eval, hyper_model, model_comparison, linear_regression, numpy_to_tensor, benchmark_linear_model\n",
    "import itertools\n",
    "import pandas as pd \n",
    "import yaml\n",
    "import tensorflow as tf\n",
    "import numpy as np\n",
    "from sklearn.model_selection import train_test_split\n",
    "from sklearn.preprocessing import StandardScaler\n",
    "from keras.models import Model\n",
    "from keras.layers import Dense, Input\n",
    "import keras_tuner as kt\n",
    "from tensorflow import keras\n",
    "from keras import layers\n",
    "import seaborn as sns\n",
    "import matplotlib.pyplot as plt\n",
    "from sklearn.linear_model import LinearRegression\n",
    "from sklearn.metrics import mean_squared_error\n",
    "from sklearn.metrics import mean_absolute_error"
   ]
  },
  {
   "cell_type": "code",
   "execution_count": null,
   "metadata": {},
   "outputs": [],
   "source": [
    "with open(\"config_multi.yml\", \"r\") as ymlfile:\n",
    "    cfg = yaml.full_load(ymlfile)\n",
    "\n",
    "\n",
    "single_leakage, two_leakage = load_data(total_samples = cfg['experiment']['total_samples'])\n",
    "two_leakage[\"leak_1\"] = 1\n",
    "two_leakage[\"leak_2\"] = 1\n",
    "\n",
    "single_leakage[\"leak_1\"] = 1\n",
    "single_leakage[\"leak_2\"] = 0\n",
    "\n",
    "data = pd.concat([single_leakage, two_leakage], axis=0)\n",
    "data = data.drop(columns=[\"mfc10_residual\"], inplace=False)\n",
    "\n",
    "# why on earth are we scaling based on geometry rather than standard deviation and mean\n",
    "# data['x2'] = data['x2'] / cfg['geometry']['span']\n",
    "# data['x1'] = data['x1'] / cfg['geometry']['span']\n",
    "\n",
    "# data['y2'] = data['y2'] / cfg['geometry']['width']\n",
    "# data['y1'] = data['y1'] / cfg['geometry']['width']\n",
    "\n",
    "data['x2'] = data['x2'].replace(np.nan, -5)\n",
    "data['y2'] = data['y2'].replace(np.nan, -5)\n",
    "# or try generating a random number\n",
    "\n",
    "y = data[['x1', 'y1', 'x2', 'y2', 'leak_1', 'leak_2']]\n",
    "x = data.drop(['x1', 'y1', 'x2', 'y2', 'leak_1', 'leak_2'], axis=1)\n",
    "\n",
    "X_train, X_test, y_train, y_test = train_test_split(x, y, test_size=0.15, random_state=1)\n",
    "X_train, X_val, y_train, y_val = train_test_split(X_train, y_train, test_size=0.2, random_state=1)\n",
    "\n",
    "scaler_flows = StandardScaler()\n",
    "X_train = scaler_flows.fit_transform(X_train)\n",
    "X_test = scaler_flows.transform(X_test)\n",
    "X_val = scaler_flows.transform(X_val)"
   ]
  },
  {
   "cell_type": "code",
   "execution_count": null,
   "metadata": {},
   "outputs": [],
   "source": [
    "# Fitting a simple linear regression model\n",
    "reg = LinearRegression().fit(X_train, y_train)\n",
    "y_pred = reg.predict(X_test)\n",
    "\n",
    "# converting the predictions to certainity of 0 and 1 (May not be a good idea)\n",
    "y_pred[:,-2][np.abs(y_pred[:,-2]) < 0.5] = 0\n",
    "y_pred[:,-2][np.abs(y_pred[:,-2]) > 0.5] = 1\n",
    "y_pred[:,-1][np.abs(y_pred[:,-1]) < 0.5] = 0\n",
    "y_pred[:,-1][np.abs(y_pred[:,-1]) > 0.5] = 1\n",
    "\n",
    "y_pred = y_pred.transpose()\n",
    "\n",
    "mse_x1 = mean_squared_error(y_test['x1'], y_pred[0], squared=True)\n",
    "mse_x2 = mean_squared_error(y_test['x2'], y_pred[2], squared=True)\n",
    "\n",
    "mse_y1 = mean_squared_error(y_test['y1'], y_pred[1], squared=True)\n",
    "mse_y2 = mean_squared_error(y_test['y2'], y_pred[3], squared=True)\n",
    "\n",
    "mse_leak1 = mean_squared_error(y_test['leak_1'], y_pred[4], squared=True)\n",
    "mse_leak2 = mean_squared_error(y_test['leak_2'], y_pred[5], squared=True)\n",
    "\n",
    "mse = [mse_x1, mse_x2, mse_y1, mse_y2, mse_leak1, mse_leak2]\n",
    "\n",
    "mse"
   ]
  },
  {
   "cell_type": "code",
   "execution_count": null,
   "metadata": {},
   "outputs": [],
   "source": [
    "y_test"
   ]
  }
 ],
 "metadata": {
  "kernelspec": {
   "display_name": "studiarbeit",
   "language": "python",
   "name": "python3"
  },
  "language_info": {
   "codemirror_mode": {
    "name": "ipython",
    "version": 3
   },
   "file_extension": ".py",
   "mimetype": "text/x-python",
   "name": "python",
   "nbconvert_exporter": "python",
   "pygments_lexer": "ipython3",
   "version": "3.9.16"
  },
  "orig_nbformat": 4
 },
 "nbformat": 4,
 "nbformat_minor": 2
}
