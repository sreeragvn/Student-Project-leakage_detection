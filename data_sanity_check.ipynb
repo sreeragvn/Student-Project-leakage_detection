{
 "cells": [
  {
   "cell_type": "code",
   "execution_count": null,
   "metadata": {},
   "outputs": [],
   "source": [
    "from utils.data_validation import get_leakage_close_to_sensor, plot_leakages, get_index_anomaly, variance_plot, data_check, meshgrid_to_coords, data_plot, single_leakage_data_spread\n",
    "import pandas as pd\n",
    "import numpy as np\n",
    "import matplotlib.pyplot as plt\n",
    "from utils import *\n",
    "import warnings\n",
    "warnings.filterwarnings('ignore')\n",
    "\n",
    "data, flows, single_leakage, double_leakage, mfc1, mfc2, mfc3, mfc4, mfc5, mfc6, mfc7, mfc8, mfc9, mfc10 = get_leakage_close_to_sensor(db_type = 'xlsx') "
   ]
  },
  {
   "cell_type": "code",
   "execution_count": null,
   "metadata": {},
   "outputs": [],
   "source": [
    "# Check 1 Here the values out of the domain are tagged as bad quality values and saved\n",
    "# mfc = mfc10\n",
    "# plot_leakages(mfc)\n",
    "# anomaly = get_index_anomaly(mfc, 'y1', 2800, less=False)\n",
    "# anomaly\n",
    "# plot_leakages(anomaly)\n",
    "anomaly_single = [596, 84, 852, 32, 854, 572]\n",
    "for index in anomaly_single:\n",
    "    data.loc[index, 'quality'] = 'bad'\n",
    "data = data.drop(data[data.quality == 'bad'].index)\n",
    "data.to_csv('../data_acquisition/clean_data_check1.csv', index=True)"
   ]
  },
  {
   "cell_type": "code",
   "execution_count": null,
   "metadata": {},
   "outputs": [],
   "source": [
    "# check 2 - Total flow for both single leakage and double leakage must be less than a particular values. Larger values are filtered out in this stage\n",
    "data = pd.read_csv('../data_acquisition/clean_data_check1.csv')\n",
    "single_leakage = data[data['number_of_leakage'] == 1]\n",
    "double_leakage = data[data['number_of_leakage'] == 2]\n",
    "single_leakage = single_leakage[single_leakage['total flow rate'] <= 0.46]\n",
    "# double_leakage['total flow rate'].describe()\n",
    "double_leakage = double_leakage[double_leakage['total flow rate'] <= 0.8]\n",
    "\n",
    "clean_data = pd.concat([single_leakage, double_leakage], axis=0)\n",
    "clean_data = clean_data.set_index('sample_number')\n",
    "clean_data = clean_data.sort_index()\n",
    "# # clean_data.describe()\n",
    "clean_data.to_csv('../data_acquisition/clean_data_check2.csv', index=True)"
   ]
  },
  {
   "cell_type": "code",
   "execution_count": null,
   "metadata": {},
   "outputs": [],
   "source": [
    "# clean_data = pd.read_csv('../data_acquisition/clean_data_check2.csv', index_col=0)\n",
    "# clean_data = clean_data.drop(columns=['Comments', 'Day', 'quality'])\n",
    "# single_leakage = clean_data[clean_data['number_of_leakage'] == 1].drop(columns=['number_of_leakage', 'x2', 'y2'])\n",
    "# double_leakage = clean_data[clean_data['number_of_leakage'] == 2].drop(columns=['number_of_leakage'])"
   ]
  },
  {
   "cell_type": "code",
   "execution_count": null,
   "metadata": {},
   "outputs": [],
   "source": []
  }
 ],
 "metadata": {
  "kernelspec": {
   "display_name": "studiarbeit",
   "language": "python",
   "name": "python3"
  },
  "language_info": {
   "codemirror_mode": {
    "name": "ipython",
    "version": 3
   },
   "file_extension": ".py",
   "mimetype": "text/x-python",
   "name": "python",
   "nbconvert_exporter": "python",
   "pygments_lexer": "ipython3",
   "version": "3.9.16"
  },
  "orig_nbformat": 4
 },
 "nbformat": 4,
 "nbformat_minor": 2
}
